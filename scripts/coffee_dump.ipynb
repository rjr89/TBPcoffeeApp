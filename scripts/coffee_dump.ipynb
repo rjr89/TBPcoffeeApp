{
 "cells": [
  {
   "cell_type": "code",
   "execution_count": null,
   "metadata": {
    "collapsed": false
   },
   "outputs": [],
   "source": [
    "import pandas as pd\n",
    "import numpy as np\n",
    "#import seaborn\n",
    "\n",
    "import itertools"
   ]
  },
  {
   "cell_type": "code",
   "execution_count": null,
   "metadata": {
    "collapsed": false
   },
   "outputs": [],
   "source": [
    "import json"
   ]
  },
  {
   "cell_type": "markdown",
   "metadata": {},
   "source": [
    "To get the json dump from the server running the app:\n",
    "\n",
    "`mongoexport --port 3031 -d meteor -c users >> dump_users.json`"
   ]
  },
  {
   "cell_type": "code",
   "execution_count": null,
   "metadata": {
    "collapsed": false
   },
   "outputs": [],
   "source": [
    "dump = open(\"dump_users.json\",'r')\n",
    "users = []\n",
    "for line in dump:\n",
    "    users.append(json.loads(line))"
   ]
  },
  {
   "cell_type": "code",
   "execution_count": null,
   "metadata": {
    "collapsed": false
   },
   "outputs": [],
   "source": [
    "table = dict(id=[],email=[],date=[],type=[])\n",
    "for user in users:\n",
    "    if type(user[\"profile\"][\"cappuccino\"]) is list:\n",
    "        for c in user[\"profile\"][\"cappuccino\"]:\n",
    "            table[\"id\"].append(user[\"_id\"])\n",
    "            table[\"email\"].append(user[\"emails\"][0][\"address\"])\n",
    "            table[\"date\"].append(c[\"$date\"])\n",
    "            table[\"type\"].append(\"cappuccino\")\n",
    "    if type(user[\"profile\"][\"espresso\"]) is list:\n",
    "        for e in user[\"profile\"][\"espresso\"]:\n",
    "            table[\"id\"].append(user[\"_id\"])\n",
    "            table[\"email\"].append(user[\"emails\"][0][\"address\"])\n",
    "            table[\"date\"].append(e[\"$date\"])\n",
    "            table[\"type\"].append(\"espresso\")\n"
   ]
  },
  {
   "cell_type": "code",
   "execution_count": null,
   "metadata": {
    "collapsed": true
   },
   "outputs": [],
   "source": [
    "table = pd.DataFrame(table)"
   ]
  },
  {
   "cell_type": "code",
   "execution_count": null,
   "metadata": {
    "collapsed": true
   },
   "outputs": [],
   "source": [
    "table.to_csv(\"coffe.csv\")"
   ]
  }
 ],
 "metadata": {
  "kernelspec": {
   "display_name": "Python 2",
   "language": "python",
   "name": "python2"
  },
  "language_info": {
   "codemirror_mode": {
    "name": "ipython",
    "version": 2
   },
   "file_extension": ".py",
   "mimetype": "text/x-python",
   "name": "python",
   "nbconvert_exporter": "python",
   "pygments_lexer": "ipython2",
   "version": "2.7.9"
  }
 },
 "nbformat": 4,
 "nbformat_minor": 0
}
